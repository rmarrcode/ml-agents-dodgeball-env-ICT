{
 "cells": [
  {
   "cell_type": "code",
   "execution_count": 1,
   "metadata": {},
   "outputs": [
    {
     "name": "stderr",
     "output_type": "stream",
     "text": [
      "c:\\Users\\rmarr\\Documents\\python-envs\\3.7.0\\lib\\site-packages\\tqdm\\auto.py:21: TqdmWarning: IProgress not found. Please update jupyter and ipywidgets. See https://ipywidgets.readthedocs.io/en/stable/user_install.html\n",
      "  from .autonotebook import tqdm as notebook_tqdm\n"
     ]
    }
   ],
   "source": [
    "from mlagents_envs.environment import UnityEnvironment\n",
    "from mlagents_envs.side_channel.engine_configuration_channel import EngineConfigurationChannel\n",
    "from mlagents_envs.base_env import ActionTuple\n",
    "\n",
    "from debug_side_channel import DebugSideChannel\n",
    "from sac_agent import SACAgent, ReplayBuffer\n",
    "\n",
    "import torch\n",
    "import torch.nn as nn\n",
    "import torch.nn.functional as F\n",
    "from torch.distributions import Normal\n",
    "import sys\n",
    "import wandb\n",
    "import numpy as np\n",
    "import yaml\n",
    "import pandas as pd\n",
    "import torch.optim as optim"
   ]
  },
  {
   "cell_type": "code",
   "execution_count": 2,
   "metadata": {},
   "outputs": [],
   "source": [
    "with open('config/config.yaml', 'r') as file:\n",
    "    config = yaml.safe_load(file)\n",
    "agent_registry = []\n",
    "agent_registry.append(SACAgent(\n",
    "                        observation_size=config['observation_size'],\n",
    "                        action_dim=config['action_dim'], \n",
    "                        hidden_size=config['hidden_size'],\n",
    "                        learning_rate=config['learning_rate']))\n",
    "gamma = config['gamma']"
   ]
  },
  {
   "cell_type": "code",
   "execution_count": 3,
   "metadata": {},
   "outputs": [],
   "source": [
    "if config['wandb_log']:\n",
    "    wandb.init(\n",
    "        project=\"visibility-game\",\n",
    "    )"
   ]
  },
  {
   "cell_type": "code",
   "execution_count": 4,
   "metadata": {},
   "outputs": [],
   "source": [
    "repeat = 256\n",
    "root = 'tensors'\n",
    "g_states = torch.cat((torch.load(f'{root}/states.pt'), torch.tensor([6.5000, 0.5000, 1.5000]).repeat(repeat, 1)), dim=0)\n",
    "g_actions = torch.cat((torch.load(f'{root}/actions.pt'), torch.tensor([0,1,0,0,0]).repeat(repeat, 1)))\n",
    "g_rewards = torch.cat((torch.load(f'{root}/rewards.pt') * 10, torch.tensor(10.).repeat(repeat)))\n",
    "g_next_states = torch.cat((torch.load(f'{root}/next_states.pt'), torch.tensor([7.5000, 0.5000, 0.5000]).repeat(repeat, 1)), dim=0)\n",
    "g_dones = torch.cat((torch.load(f'{root}/dones.pt'), torch.tensor(1.).repeat(repeat)))"
   ]
  },
  {
   "cell_type": "code",
   "execution_count": 5,
   "metadata": {},
   "outputs": [
    {
     "name": "stdout",
     "output_type": "stream",
     "text": [
      "q1 tensor([[-0.1638,  0.3103, -0.3781, -0.3616, -0.3240],\n",
      "        [-0.1060,  0.2313, -0.3420, -0.3466, -0.2845],\n",
      "        [-0.1358,  0.2337, -0.2837, -0.3048, -0.2507],\n",
      "        [-0.1638,  0.3103, -0.3781, -0.3616, -0.3240],\n",
      "        [-0.1802,  0.2449, -0.2340, -0.3019, -0.2059],\n",
      "        [-0.1358,  0.2337, -0.2837, -0.3048, -0.2507],\n",
      "        [-0.2459,  0.2593, -0.1794, -0.3190, -0.1615],\n",
      "        [-0.1802,  0.2449, -0.2340, -0.3019, -0.2059],\n",
      "        [-0.1358,  0.2337, -0.2837, -0.3048, -0.2507],\n",
      "        [-0.1802,  0.2449, -0.2340, -0.3019, -0.2059]],\n",
      "       grad_fn=<SqueezeBackward0>)\n"
     ]
    },
    {
     "name": "stderr",
     "output_type": "stream",
     "text": [
      "c:\\Users\\rmarr\\Documents\\python-envs\\3.7.0\\lib\\site-packages\\ipykernel_launcher.py:24: UserWarning: Using a target size (torch.Size([10])) that is different to the input size (torch.Size([10, 5])). This will likely lead to incorrect results due to broadcasting. Please ensure they have the same size.\n"
     ]
    },
    {
     "ename": "RuntimeError",
     "evalue": "The size of tensor a (5) must match the size of tensor b (10) at non-singleton dimension 1",
     "output_type": "error",
     "traceback": [
      "\u001b[1;31m---------------------------------------------------------------------------\u001b[0m",
      "\u001b[1;31mRuntimeError\u001b[0m                              Traceback (most recent call last)",
      "\u001b[1;32m~\\AppData\\Local\\Temp\\ipykernel_4828\\3400266812.py\u001b[0m in \u001b[0;36m<module>\u001b[1;34m\u001b[0m\n\u001b[0;32m     22\u001b[0m     \u001b[0mq2\u001b[0m \u001b[1;33m=\u001b[0m \u001b[0magent\u001b[0m\u001b[1;33m.\u001b[0m\u001b[0mcritic2\u001b[0m\u001b[1;33m(\u001b[0m\u001b[0mstates\u001b[0m\u001b[1;33m)\u001b[0m\u001b[1;33m.\u001b[0m\u001b[0msqueeze\u001b[0m\u001b[1;33m(\u001b[0m\u001b[1;33m)\u001b[0m\u001b[1;33m\u001b[0m\u001b[0m\n\u001b[0;32m     23\u001b[0m \u001b[1;33m\u001b[0m\u001b[0m\n\u001b[1;32m---> 24\u001b[1;33m     \u001b[0mcritic1_loss\u001b[0m \u001b[1;33m=\u001b[0m \u001b[0mF\u001b[0m\u001b[1;33m.\u001b[0m\u001b[0mmse_loss\u001b[0m\u001b[1;33m(\u001b[0m\u001b[0mq1\u001b[0m\u001b[1;33m,\u001b[0m \u001b[0mtarget_q\u001b[0m\u001b[1;33m)\u001b[0m\u001b[1;33m\u001b[0m\u001b[0m\n\u001b[0m\u001b[0;32m     25\u001b[0m     \u001b[0magent\u001b[0m\u001b[1;33m.\u001b[0m\u001b[0mcritic1_optimizer\u001b[0m\u001b[1;33m.\u001b[0m\u001b[0mzero_grad\u001b[0m\u001b[1;33m(\u001b[0m\u001b[1;33m)\u001b[0m\u001b[1;33m\u001b[0m\u001b[0m\n\u001b[0;32m     26\u001b[0m     \u001b[0mcritic1_loss\u001b[0m\u001b[1;33m.\u001b[0m\u001b[0mbackward\u001b[0m\u001b[1;33m(\u001b[0m\u001b[0mretain_graph\u001b[0m\u001b[1;33m=\u001b[0m\u001b[1;32mTrue\u001b[0m\u001b[1;33m)\u001b[0m\u001b[1;33m\u001b[0m\u001b[0m\n",
      "\u001b[1;32mc:\\Users\\rmarr\\Documents\\python-envs\\3.7.0\\lib\\site-packages\\torch\\nn\\functional.py\u001b[0m in \u001b[0;36mmse_loss\u001b[1;34m(input, target, size_average, reduce, reduction)\u001b[0m\n\u001b[0;32m   2657\u001b[0m         \u001b[0mreduction\u001b[0m \u001b[1;33m=\u001b[0m \u001b[0m_Reduction\u001b[0m\u001b[1;33m.\u001b[0m\u001b[0mlegacy_get_string\u001b[0m\u001b[1;33m(\u001b[0m\u001b[0msize_average\u001b[0m\u001b[1;33m,\u001b[0m \u001b[0mreduce\u001b[0m\u001b[1;33m)\u001b[0m\u001b[1;33m\u001b[0m\u001b[0m\n\u001b[0;32m   2658\u001b[0m \u001b[1;33m\u001b[0m\u001b[0m\n\u001b[1;32m-> 2659\u001b[1;33m     \u001b[0mexpanded_input\u001b[0m\u001b[1;33m,\u001b[0m \u001b[0mexpanded_target\u001b[0m \u001b[1;33m=\u001b[0m \u001b[0mtorch\u001b[0m\u001b[1;33m.\u001b[0m\u001b[0mbroadcast_tensors\u001b[0m\u001b[1;33m(\u001b[0m\u001b[0minput\u001b[0m\u001b[1;33m,\u001b[0m \u001b[0mtarget\u001b[0m\u001b[1;33m)\u001b[0m\u001b[1;33m\u001b[0m\u001b[0m\n\u001b[0m\u001b[0;32m   2660\u001b[0m     \u001b[1;32mreturn\u001b[0m \u001b[0mtorch\u001b[0m\u001b[1;33m.\u001b[0m\u001b[0m_C\u001b[0m\u001b[1;33m.\u001b[0m\u001b[0m_nn\u001b[0m\u001b[1;33m.\u001b[0m\u001b[0mmse_loss\u001b[0m\u001b[1;33m(\u001b[0m\u001b[0mexpanded_input\u001b[0m\u001b[1;33m,\u001b[0m \u001b[0mexpanded_target\u001b[0m\u001b[1;33m,\u001b[0m \u001b[0m_Reduction\u001b[0m\u001b[1;33m.\u001b[0m\u001b[0mget_enum\u001b[0m\u001b[1;33m(\u001b[0m\u001b[0mreduction\u001b[0m\u001b[1;33m)\u001b[0m\u001b[1;33m)\u001b[0m\u001b[1;33m\u001b[0m\u001b[0m\n\u001b[0;32m   2661\u001b[0m \u001b[1;33m\u001b[0m\u001b[0m\n",
      "\u001b[1;32mc:\\Users\\rmarr\\Documents\\python-envs\\3.7.0\\lib\\site-packages\\torch\\functional.py\u001b[0m in \u001b[0;36mbroadcast_tensors\u001b[1;34m(*tensors)\u001b[0m\n\u001b[0;32m     69\u001b[0m         \u001b[1;32mif\u001b[0m \u001b[0many\u001b[0m\u001b[1;33m(\u001b[0m\u001b[0mtype\u001b[0m\u001b[1;33m(\u001b[0m\u001b[0mt\u001b[0m\u001b[1;33m)\u001b[0m \u001b[1;32mis\u001b[0m \u001b[1;32mnot\u001b[0m \u001b[0mTensor\u001b[0m \u001b[1;32mfor\u001b[0m \u001b[0mt\u001b[0m \u001b[1;32min\u001b[0m \u001b[0mtensors\u001b[0m\u001b[1;33m)\u001b[0m \u001b[1;32mand\u001b[0m \u001b[0mhas_torch_function\u001b[0m\u001b[1;33m(\u001b[0m\u001b[0mtensors\u001b[0m\u001b[1;33m)\u001b[0m\u001b[1;33m:\u001b[0m\u001b[1;33m\u001b[0m\u001b[0m\n\u001b[0;32m     70\u001b[0m             \u001b[1;32mreturn\u001b[0m \u001b[0mhandle_torch_function\u001b[0m\u001b[1;33m(\u001b[0m\u001b[0mbroadcast_tensors\u001b[0m\u001b[1;33m,\u001b[0m \u001b[0mtensors\u001b[0m\u001b[1;33m,\u001b[0m \u001b[1;33m*\u001b[0m\u001b[0mtensors\u001b[0m\u001b[1;33m)\u001b[0m\u001b[1;33m\u001b[0m\u001b[0m\n\u001b[1;32m---> 71\u001b[1;33m     \u001b[1;32mreturn\u001b[0m \u001b[0m_VF\u001b[0m\u001b[1;33m.\u001b[0m\u001b[0mbroadcast_tensors\u001b[0m\u001b[1;33m(\u001b[0m\u001b[0mtensors\u001b[0m\u001b[1;33m)\u001b[0m  \u001b[1;31m# type: ignore\u001b[0m\u001b[1;33m\u001b[0m\u001b[0m\n\u001b[0m\u001b[0;32m     72\u001b[0m \u001b[1;33m\u001b[0m\u001b[0m\n\u001b[0;32m     73\u001b[0m \u001b[1;33m\u001b[0m\u001b[0m\n",
      "\u001b[1;31mRuntimeError\u001b[0m: The size of tensor a (5) must match the size of tensor b (10) at non-singleton dimension 1"
     ]
    }
   ],
   "source": [
    "torch.autograd.set_detect_anomaly(True)\n",
    "l = g_states.shape[0]\n",
    "while True:\n",
    "    agent = agent_registry[0]\n",
    "    states = g_states[torch.randperm(g_states.size(0))[:10]]\n",
    "    actions = g_actions[torch.randperm(g_states.size(0))[:10]]\n",
    "    rewards = g_rewards[torch.randperm(g_states.size(0))[:10]]\n",
    "    next_states = g_next_states[torch.randperm(g_states.size(0))[:10]] \n",
    "    dones = g_dones[torch.randperm(g_states.size(0))[:10]]\n",
    "\n",
    "    with torch.no_grad():\n",
    "        next_actions = agent.actor.forward(next_states)\n",
    "        next_q1 = agent.target_critic1(next_states)\n",
    "        next_q2 = agent.target_critic2(next_states)\n",
    "        state_values = (\n",
    "            next_actions * (torch.min(next_q1, next_q2))\n",
    "        ).sum(dim=1)\n",
    "        target_q = rewards + (1 - dones) * gamma * state_values \n",
    "\n",
    "    q1 = agent.critic1(states).gather(1, actions)\n",
    "    print(f'q1 {q1}')\n",
    "    q2 = agent.critic2(states).squeeze()\n",
    "        \n",
    "    critic1_loss = F.mse_loss(q1, target_q)\n",
    "    agent.critic1_optimizer.zero_grad()\n",
    "    critic1_loss.backward(retain_graph=True)\n",
    "    if config['wandb_log']:\n",
    "        wandb.log({\"critic1_loss\": critic1_loss})\n",
    "    agent.critic1_optimizer.step()\n",
    "\n",
    "    critic2_loss = F.mse_loss(q2, target_q)\n",
    "    agent.critic2_optimizer.zero_grad()\n",
    "    critic2_loss.backward(retain_graph=True)\n",
    "    if config['wandb_log']:\n",
    "        wandb.log({\"critic2_loss\": critic2_loss})\n",
    "    agent.critic2_optimizer.step()\n",
    "\n",
    "    tau = .005\n",
    "    for target_param, param in zip(agent.target_critic1.parameters(), agent.critic1.parameters()):\n",
    "        target_param.data.copy_(tau * param.data + (1 - tau) * target_param.data)\n",
    "\n",
    "    for target_param, param in zip(agent.target_critic2.parameters(), agent.critic2.parameters()):\n",
    "        target_param.data.copy_(tau * param.data + (1 - tau) * target_param.data)\n",
    "\n",
    "    new_actions = agent.actor.select_action_tanh(states)\n",
    "    min_q = torch.min(agent.critic1(states), agent.critic2(states, new_actions))\n",
    "    actor_loss = torch.tensor(-1) * (min_q).mean()\n",
    "    agent.actor_optimizer.zero_grad()\n",
    "    actor_loss.backward(retain_graph=True)\n",
    "    if config['wandb_log']:\n",
    "        wandb.log({\"actor_loss\": actor_loss})\n",
    "    agent.actor_optimizer.step()"
   ]
  },
  {
   "cell_type": "code",
   "execution_count": null,
   "metadata": {},
   "outputs": [
    {
     "data": {
      "text/plain": [
       "{(4.5, 0.5, 1.5): [[6.627501010894775],\n",
       "  [6.520047664642334],\n",
       "  [5.859687328338623],\n",
       "  [5.944876670837402],\n",
       "  [6.512833595275879]],\n",
       " (5.5, 0.5, 1.5): [[8.0948486328125],\n",
       "  [8.356216430664062],\n",
       "  [7.325829982757568],\n",
       "  [7.045655727386475],\n",
       "  [7.409486293792725]],\n",
       " (6.5, 0.5, 1.5): [[9.506819725036621],\n",
       "  [10.145913124084473],\n",
       "  [8.991620063781738],\n",
       "  [8.38970947265625],\n",
       "  [8.388338088989258]],\n",
       " (4.5, 0.5, 0.5): [[5.247955322265625],\n",
       "  [5.565765380859375],\n",
       "  [5.149465084075928],\n",
       "  [5.433624744415283],\n",
       "  [6.0807671546936035]],\n",
       " (5.5, 0.5, 0.5): [[6.540751934051514],\n",
       "  [7.0263848304748535],\n",
       "  [6.499908924102783],\n",
       "  [6.384011268615723],\n",
       "  [6.883880615234375]],\n",
       " (6.5, 0.5, 0.5): [[7.822787761688232],\n",
       "  [8.406075477600098],\n",
       "  [7.906334400177002],\n",
       "  [7.533953666687012],\n",
       "  [7.776287078857422]],\n",
       " (6.5, 0.5, 2.5): [[10.530986785888672],\n",
       "  [10.386754035949707],\n",
       "  [9.546075820922852],\n",
       "  [8.974699020385742],\n",
       "  [8.884608268737793]],\n",
       " (6.5, 0.5, 3.5): [[11.00023078918457],\n",
       "  [10.61318302154541],\n",
       "  [9.906241416931152],\n",
       "  [9.569245338439941],\n",
       "  [9.434946060180664]]}"
      ]
     },
     "execution_count": 9,
     "metadata": {},
     "output_type": "execute_result"
    }
   ],
   "source": [
    "agent_registry[0].critic1.draw_graph()"
   ]
  },
  {
   "cell_type": "code",
   "execution_count": null,
   "metadata": {},
   "outputs": [
    {
     "name": "stdout",
     "output_type": "stream",
     "text": [
      "tensor(7.9241, grad_fn=<SqueezeBackward0>)\n",
      "tensor(9.2092, grad_fn=<SqueezeBackward0>)\n"
     ]
    }
   ],
   "source": [
    "low_q = agent.critic1(torch.tensor([[5.5, 0.5, 0.5]]), torch.tensor([[1.]])).squeeze()\n",
    "print(low_q)\n",
    "high_q = agent.critic1(torch.tensor([[6.5, 0.5, 1.5]]), torch.tensor([[1.]])).squeeze()\n",
    "print(high_q)"
   ]
  }
 ],
 "metadata": {
  "kernelspec": {
   "display_name": "3.7.0",
   "language": "python",
   "name": "python3"
  },
  "language_info": {
   "codemirror_mode": {
    "name": "ipython",
    "version": 3
   },
   "file_extension": ".py",
   "mimetype": "text/x-python",
   "name": "python",
   "nbconvert_exporter": "python",
   "pygments_lexer": "ipython3",
   "version": "3.7.0"
  }
 },
 "nbformat": 4,
 "nbformat_minor": 2
}
